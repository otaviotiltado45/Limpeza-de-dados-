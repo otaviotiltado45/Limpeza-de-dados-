{
 "cells": [
  {
   "cell_type": "code",
   "execution_count": null,
   "id": "ea71a2fd",
   "metadata": {},
   "outputs": [],
   "source": [
    "# inicia bibliotecas e local do arquivo\n",
    "import pandas as pd\n",
    "import numpy as np\n",
    "df = pd.read_csv('./vendas_modificado.csv')\n",
    "df.head(20)"
   ]
  },
  {
   "cell_type": "code",
   "execution_count": null,
   "id": "a9ff1cdd",
   "metadata": {},
   "outputs": [],
   "source": [
    "#verifica os tipos\n",
    "df.dtypes\n"
   ]
  },
  {
   "cell_type": "code",
   "execution_count": null,
   "id": "835cfb44",
   "metadata": {},
   "outputs": [],
   "source": [
    "# verifica nulos\n",
    "df.isnull().sum()"
   ]
  },
  {
   "cell_type": "code",
   "execution_count": null,
   "id": "b2fe727c",
   "metadata": {},
   "outputs": [],
   "source": [
    "# verifica os erros de digitação na coluna valor\n",
    "erros_valor = df[~df['valor'].str.replace('R$', '', regex=False).str.replace(',', '.').str.strip().str.match(r'^\\d+(\\.\\d+)?$')]\n",
    "\n",
    "\n",
    "print(erros_valor[['valor']].head(10))\n"
   ]
  },
  {
   "cell_type": "code",
   "execution_count": null,
   "id": "62b2f974",
   "metadata": {},
   "outputs": [],
   "source": [
    "# corige os erros dos valores\n",
    "df = df[df['valor'].str.replace('R$', '', regex=False).str.replace(',', '.').str.strip().str.match(r'^\\d+(\\.\\d+)?$')]\n",
    "\n",
    "df['valor'] = df['valor'].str.replace('R$', '', regex=False).str.replace(',', '.').astype(float)\n",
    "\n"
   ]
  },
  {
   "cell_type": "code",
   "execution_count": null,
   "id": "adbec31f",
   "metadata": {},
   "outputs": [],
   "source": [
    "#padroniza data hora e frete\n",
    "df['data'] = pd.to_datetime(df['data'], errors='coerce')\n",
    "\n",
    "\n",
    "df['hora'] = pd.to_datetime(df['hora'], format='%H:%M:%S', errors='coerce').dt.strftime('%H:%M:%S')\n",
    "\n",
    "df['frete'] = df['frete'].fillna(0.0)"
   ]
  },
  {
   "cell_type": "code",
   "execution_count": null,
   "id": "beecc4b9",
   "metadata": {},
   "outputs": [],
   "source": [
    "# verifica nulos\n",
    "df.isnull().sum()"
   ]
  },
  {
   "cell_type": "code",
   "execution_count": null,
   "id": "dd28ba90",
   "metadata": {},
   "outputs": [],
   "source": [
    "# corrige os totais que estão com o valor de Nan com base na formula e verifica se ainda existem nulos \n",
    "# como não existem valores nem quantidades nulas não é feita nenhuma verificação\n",
    "# Fórmula: total = valor * quantidade + frete\n",
    "#faltando_total = df['total'].isna()\n",
    "#df.loc[faltando_total, 'total'] = df.loc[faltando_total, 'valor'] * df.loc[faltando_total, 'quantidade'] + df.loc[faltando_total, 'frete']\n",
    "\n",
    "df.isnull().sum()"
   ]
  },
  {
   "cell_type": "code",
   "execution_count": null,
   "id": "28884756",
   "metadata": {},
   "outputs": [],
   "source": [
    "# dropa os nulos restantes \n",
    "df = df.dropna()\n"
   ]
  },
  {
   "cell_type": "code",
   "execution_count": null,
   "id": "32ef7d4d",
   "metadata": {},
   "outputs": [],
   "source": [
    "# Corrige os valores nulos na coluna 'total' usando a fórmula correta\n",
    "faltando_total = df['total'].isna()\n",
    "df.loc[faltando_total, 'total'] = (df.loc[faltando_total, 'valor'] * df.loc[faltando_total, 'quantidade'] + df.loc[faltando_total, 'frete']).round(2)\n",
    "\n",
    "# Recalcula todos os valores de 'total' e padroniza com duas casas decimais\n",
    "df['total'] = (df['valor'] * df['quantidade'] + df['frete']).round(2)\n",
    "\n",
    "# Calcula 'total_calculado' como referência de verificação\n",
    "df['total_calculado'] = (df['valor'] * df['quantidade'] + df['frete']).round(2)\n",
    "\n",
    "# Verifica inconsistências entre 'total' e 'total_calculado'\n",
    "df_totais_errados = df[~np.isclose(df['total'], df['total_calculado'])]\n",
    "\n",
    "# Exibe registros com discrepâncias\n",
    "print(df_totais_errados[['valor', 'quantidade', 'frete', 'total', 'total_calculado']])\n"
   ]
  },
  {
   "cell_type": "code",
   "execution_count": null,
   "id": "489e7070",
   "metadata": {},
   "outputs": [],
   "source": [
    "# remove resultados maiores que 999 objetivo é de manter todos os resultaods no maximoa té a casa dos cem\n",
    "df = df[df['total'] <= 999]"
   ]
  },
  {
   "cell_type": "code",
   "execution_count": null,
   "id": "a01f5cc2",
   "metadata": {},
   "outputs": [],
   "source": [
    "# exibe o data frame\n",
    "df.head(30)"
   ]
  },
  {
   "cell_type": "code",
   "execution_count": null,
   "id": "c6fed0cf",
   "metadata": {},
   "outputs": [],
   "source": [
    "# Verificando os status \n",
    "df['status'].value_counts()"
   ]
  },
  {
   "cell_type": "code",
   "execution_count": null,
   "id": "efa99ecb",
   "metadata": {},
   "outputs": [],
   "source": [
    "#confere se ainda existem nulos\n",
    "df.isnull().sum()"
   ]
  },
  {
   "cell_type": "code",
   "execution_count": null,
   "id": "c617623a",
   "metadata": {},
   "outputs": [],
   "source": [
    "# Corrigindo e padronizando os nomes dos status\n",
    "df['status'] = df['status'].replace({\n",
    "    'Pgto Confirmado': 'Pagamento Confirmado',\n",
    "    'aguardando pagamento': 'Aguardando Pagamento',\n",
    "    'Aguardando Pgto': 'Aguardando Pagamento',\n",
    "    'AP': 'Aguardando Pagamento',\n",
    "    'Sep': 'Em Separação',\n",
    "    'Separando': 'Em Separação',\n",
    "    'PC': 'Pagamento Confirmado',\n",
    "    'Entg': 'Entregue',\n",
    "    'Entregue com Sucesso': 'Entregue',\n",
    "    'Transp': 'Em Transporte',\n",
    "    'Transportando': 'Em Transporte'\n",
    "})\n"
   ]
  },
  {
   "cell_type": "code",
   "execution_count": null,
   "id": "f860de40",
   "metadata": {},
   "outputs": [],
   "source": [
    "# Verificando como ficou a distribuição dos status após a padronização\n",
    "df['status'].value_counts()\n"
   ]
  },
  {
   "cell_type": "code",
   "execution_count": null,
   "id": "688dbb60",
   "metadata": {},
   "outputs": [],
   "source": [
    "df['pagamento'].value_counts()"
   ]
  },
  {
   "cell_type": "code",
   "execution_count": null,
   "id": "75b84d49",
   "metadata": {},
   "outputs": [],
   "source": [
    "# verificando produtos\n",
    "print(df['produto'].value_counts().to_string())\n"
   ]
  },
  {
   "cell_type": "code",
   "execution_count": null,
   "id": "91b895ef",
   "metadata": {},
   "outputs": [],
   "source": [
    "# Dicionário de correções: chaves = nomes errados / valores = nomes corretos\n",
    "correcoes_produtos = {\n",
    "    # Corrigindo com símbolos e variações comuns\n",
    "    'Pasta de Dente#$@!': 'Pasta de Dente',\n",
    "    'Queijo Mussarela#$@!': 'Queijo Mussarela',\n",
    "    'Sabonete#$@!': 'Sabonete',\n",
    "    'Manteiga#$@!': 'Manteiga',\n",
    "    'Café#$@!': 'Café',\n",
    "    'Açúcar#$@!': 'Açúcar',\n",
    "    'Desinfetante#$@!': 'Desinfetante',\n",
    "    'Papel Toalha#$@!': 'Papel Toalha',\n",
    "    'Condicionador#$@!': 'Condicionador',\n",
    "    'Molho de Tomate#$@!': 'Molho de Tomate',\n",
    "    'Água Mineral#$@!': 'Água Mineral',\n",
    "    'Refrigerante#$@!': 'Refrigerante',\n",
    "    'Presunto#$@!': 'Presunto',\n",
    "    'Cerveja#$@!': 'Cerveja',\n",
    "    'Biscoito Recheado#$@!': 'Biscoito Recheado',\n",
    "    'Macarrão#$@!': 'Macarrão',\n",
    "    'Óleo de Soja#$@!': 'Óleo de Soja',\n",
    "    'Vinho#$@!': 'Vinho',\n",
    "    'Sal#$@!': 'Sal',\n",
    "    'Suco de Laranja#$@!': 'Suco de Laranja',\n",
    "    'Shampoo#$@!': 'Shampoo',\n",
    "    'Farinha de Trigo#$@!': 'Farinha de Trigo',\n",
    "    'Detergente#$@!': 'Detergente',\n",
    "    'Pão de Forma#$@!': 'Pão de Forma',\n",
    "    'Arroz#$@!': 'Arroz',\n",
    "    'Feijão#$@!': 'Feijão',\n",
    "    'Amaciante#$@!': 'Amaciante',\n",
    "    'Leite Integral#$@!': 'Leite Integral',\n",
    "    'Papel Higiênico#$@!': 'Papel Higiênico',\n",
    "    'Sabão em Pó#$@!': 'Sabão em Pó',\n",
    "    'Carvão#$@!': 'Carvão',\n",
    "    'Condicioiador#$@!': 'Condicionador',\n",
    "\n",
    "    # Corrigindo erros de digitação\n",
    "    'Refrigkrante': 'Refrigerante',\n",
    "    'Scl': 'Sal',\n",
    "    'Papel qoalha': 'Papel Toalha',\n",
    "    'Desinfetanue': 'Desinfetante',\n",
    "    'Qbeijo Mussarela': 'Queijo Mussarela',\n",
    "    'Água Mineras': 'Água Mineral',\n",
    "    'Presuntd': 'Presunto',\n",
    "    'Macawrão': 'Macarrão',\n",
    "    'Sucoyde Laranja': 'Suco de Laranja',\n",
    "    'Clfé': 'Café',\n",
    "    'Desinfekante': 'Desinfetante',\n",
    "    'Majarrão': 'Macarrão',\n",
    "    'Cnfé': 'Café',\n",
    "    'Farinha de Tripo': 'Farinha de Trigo',\n",
    "    'Manteigt': 'Manteiga',\n",
    "    'zabonete': 'Sabonete',\n",
    "    'Mqcarrão': 'Macarrão',\n",
    "    'Arroc': 'Arroz',\n",
    "    'tal': 'Sal',\n",
    "    'Sabonepe': 'Sabonete',\n",
    "    'Papel Twalha': 'Papel Toalha',\n",
    "    'Água Mineual': 'Água Mineral',\n",
    "    'Condibionador': 'Condicionador',\n",
    "    'Caft': 'Café',\n",
    "    'ieijão': 'Feijão',\n",
    "    'Açúcaz': 'Açúcar',\n",
    "    'Amaciayte': 'Amaciante',\n",
    "    'Caff': 'Café',\n",
    "    'Mopho de Tomate': 'Molho de Tomate',\n",
    "    'Molmo de Tomate': 'Molho de Tomate',\n",
    "    'Biscoitq Recheado': 'Biscoito Recheado',\n",
    "    'Macirrão': 'Macarrão',\n",
    "    'Deqergente': 'Detergente',\n",
    "    'Cafc': 'Café',\n",
    "    'Queijo Mussarelz': 'Queijo Mussarela',\n",
    "    'Deterwente': 'Detergente',\n",
    "}\n",
    "\n",
    "# Aplicando as correções no DataFrame\n",
    "df['produto'] = df['produto'].replace(correcoes_produtos)\n"
   ]
  },
  {
   "cell_type": "code",
   "execution_count": null,
   "id": "a4205225",
   "metadata": {},
   "outputs": [],
   "source": [
    "# dropa duplicatas\n",
    "df = df.drop_duplicates()\n"
   ]
  },
  {
   "cell_type": "code",
   "execution_count": null,
   "id": "c8aac8f8",
   "metadata": {},
   "outputs": [],
   "source": [
    "# verificando cidades\n",
    "df['cidade'].value_counts()"
   ]
  },
  {
   "cell_type": "code",
   "execution_count": null,
   "id": "0a097d11",
   "metadata": {},
   "outputs": [],
   "source": [
    "# verificando pais\n",
    "df['pais'].value_counts()"
   ]
  },
  {
   "cell_type": "code",
   "execution_count": null,
   "id": "ea4ec9a6",
   "metadata": {},
   "outputs": [],
   "source": [
    "# verificando marcas\n",
    "print(df['marca'].value_counts().to_string())\n"
   ]
  },
  {
   "cell_type": "code",
   "execution_count": null,
   "id": "58c7a255",
   "metadata": {},
   "outputs": [],
   "source": [
    "\n",
    "# verificando clientes\n",
    "print(df['cliente'].value_counts().to_string())"
   ]
  },
  {
   "cell_type": "code",
   "execution_count": null,
   "id": "1d722a15",
   "metadata": {},
   "outputs": [],
   "source": [
    "# exibe o data frame\n",
    "df.head(50)"
   ]
  },
  {
   "cell_type": "code",
   "execution_count": null,
   "id": "978aea06",
   "metadata": {},
   "outputs": [],
   "source": [
    "# transforma o data frame em csv\n",
    "df.to_csv('vendas_tratado.csv', index=False)\n"
   ]
  },
  {
   "cell_type": "markdown",
   "id": "73a5b72f",
   "metadata": {},
   "source": [
    "Relatório de Limpeza e Padronização de Dados \n",
    "Durante a análise e tratamento do conjunto de dados, foram identificados e corrigidos diversos problemas que comprometiam a integridade e a qualidade das informações. Abaixo estão as principais etapas realizadas:\n",
    "\n",
    "1. Leitura e Inspeção Inicial\n",
    "Foi realizada a importação do arquivo vendas_modificado.csv.\n",
    "\n",
    "Analisaram-se os tipos de dados e valores nulos.\n",
    "\n",
    "2. Tratamento da Coluna valor\n",
    "Identificados erros de digitação e formatação na coluna valor, como presença de símbolos (\"R$\") e vírgulas como separador decimal.\n",
    "\n",
    "As entradas inválidas foram removidas.\n",
    "\n",
    "Os valores foram convertidos corretamente para o tipo float.\n",
    "\n",
    "3. Padronização de Datas, Horários e Frete\n",
    "A coluna data foi convertida para o formato datetime.\n",
    "\n",
    "A coluna hora foi formatada para o padrão HH:MM:SS.\n",
    "\n",
    "A coluna frete teve valores nulos preenchidos com 0.0.\n",
    "\n",
    "4. Correção da Coluna total\n",
    "Valores ausentes em total foram recalculados usando a fórmula:\n",
    "total = valor * quantidade + frete.\n",
    "\n",
    "Valores incorretos foram ajustados com base na mesma fórmula.\n",
    "\n",
    "5. Eliminação de Duplicatas e Valores Faltantes\n",
    "Registros com valores ainda nulos foram removidos.\n",
    "\n",
    "Também foram eliminadas duplicatas do DataFrame.\n",
    "\n",
    "6. Padronização dos Status de Pagamento\n",
    "A coluna status apresentava inconsistência nos nomes.\n",
    "\n",
    "Os valores foram padronizados para categorias claras como:\n",
    "Pagamento Confirmado, Aguardando Pagamento, Em Separação, Em Transporte, Entregue, entre outros.\n",
    "\n",
    "7. Correção de Nomes de Produtos\n",
    "Diversos produtos apresentavam caracteres especiais, erros de digitação ou variações no nome.\n",
    "\n",
    "Foi criado um dicionário de mapeamento para corrigir e padronizar todos esses valores.\n",
    "\n",
    "8. Análises Finais\n",
    "Foi realizada uma checagem nas colunas de cidade, país, marca e cliente para garantir consistência nos dados.\n",
    "\n",
    "Resumo\n",
    "O processo de limpeza resultou em um DataFrame com:\n",
    "\n",
    "Tipos de dados consistentes\n",
    "\n",
    "Nomes padronizados\n",
    "\n",
    "Cálculos corretos\n",
    "\n",
    "Ausência de valores nulos e duplicados\n",
    "\n",
    "Essas correções garantem maior confiabilidade para análises futuras com base nesse conjunto de dados."
   ]
  }
 ],
 "metadata": {
  "kernelspec": {
   "display_name": "Python 3",
   "language": "python",
   "name": "python3"
  },
  "language_info": {
   "codemirror_mode": {
    "name": "ipython",
    "version": 3
   },
   "file_extension": ".py",
   "mimetype": "text/x-python",
   "name": "python",
   "nbconvert_exporter": "python",
   "pygments_lexer": "ipython3",
   "version": "3.12.10"
  }
 },
 "nbformat": 4,
 "nbformat_minor": 5
}
